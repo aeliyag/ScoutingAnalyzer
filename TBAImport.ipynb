{
 "cells": [
  {
   "cell_type": "code",
   "execution_count": 1,
   "id": "85374c6e-bed5-49ee-8da3-96cb8db4c4e1",
   "metadata": {},
   "outputs": [],
   "source": [
    "import json\n",
    "import pandas as pd\n",
    "import numpy as np\n",
    "import requests\n",
    "from statistics import mean\n",
    "\n",
    "header = '/Volumes/GoogleDrive/My Drive/Scouting Original/' #directory of where all the relevant files used in this program are\n",
    "\n",
    "HEADER = {'X-TBA-Auth-Key': '0x3LtcI75fiT6AaueA5JuaT9QPKhDDtIjd7gGhNwwbi2dFtIz5L5rygjSbpAFKEZ'} #tba authentication key (used to access the api)\n",
    "BASE_URL = 'https://www.thebluealliance.com/api/v3/' #url for api base (initial page of api with no included specificity)\n",
    "\n",
    "#importing from the TBI API requires a base url + an additional url segment indicating a specific path to look into\n",
    "\n",
    "def tba_request(url):\n",
    "    r = requests.get(BASE_URL+url, headers=HEADER) #uses the requests library to fetch the desired data from the tba api\n",
    "    data = json.loads(r.text) #read the json file and return the result\n",
    "    return data"
   ]
  },
  {
   "cell_type": "code",
   "execution_count": 2,
   "id": "74ee0cd7-cd22-450d-a083-130d95f5764b",
   "metadata": {},
   "outputs": [],
   "source": [
    "event_key = '2022cafr'\n",
    "x = tba_request(f'/event/{event_key}/matches') #loads details for each match for the given event from the tba api, needs wifi"
   ]
  },
  {
   "cell_type": "code",
   "execution_count": 3,
   "id": "e97d936f-90f5-46ca-a024-1b8352862468",
   "metadata": {},
   "outputs": [],
   "source": [
    "match_number = [i['match_number'] for i in x] #creates a list of match numbers for each match in the event\n",
    "comp_levels = [i['comp_level'] for i in x] #creates a list of comp levels for each match (qm = quals, qf = quarters, sf = semis, f = finals)\n",
    "\n",
    "red_team_keys = np.array([[(i[3:]) for i in j['alliances']['red']['team_keys']] for j in x]) #team keys (frc[team number]) for red list with 3 elements in each slot\n",
    "blue_team_keys = np.array([[(i[3:]) for i in j['alliances']['blue']['team_keys']] for j in x]) #same for blue\n",
    "\n",
    "red_scores = [i['alliances']['red']['score'] if i['alliances']['red']['score'] >= 0 else np.nan for i in x] #score for red in each match or np.nan if the score doesn't exist (that is, the match hasn't been played yet)\n",
    "#not keeping scores as 0 for incomplete matches bc to the program, that looks like a tie, not an unplayed match\n",
    "blue_scores = [i['alliances']['blue']['score'] if i['alliances']['blue']['score'] >= 0 else np.nan for i in x] #same for blue\n",
    "\n",
    "red_rp = [np.nan if i['score_breakdown'] is None else i['score_breakdown']['red']['rp'] for i in x] #number of RP the red alliance got if the match has been played, otherwise np.nan\n",
    "blue_rp = [np.nan if i['score_breakdown'] is None else i['score_breakdown']['blue']['rp'] for i in x] #same for blue\n",
    "youtube_link = ['https://www.youtube.com/watch/{}'.format(i['videos'][0]['key']) if (len(i['videos']) > 0) else np.nan for i in x] #a youtube link if the match has been played\n",
    "#the one line if in all of these is for instances where the match may or may not have been played yet"
   ]
  },
  {
   "cell_type": "code",
   "execution_count": 4,
   "id": "1615e2b4-d25d-403f-ac84-8e4cd2c34149",
   "metadata": {},
   "outputs": [],
   "source": [
    "fixR = np.where(red_team_keys=='2073B', '9973', red_team_keys)\n",
    "fixB = np.where(blue_team_keys=='2073B', '9973', blue_team_keys)"
   ]
  },
  {
   "cell_type": "code",
   "execution_count": 5,
   "id": "87fca01f-d38d-4948-9134-baa40289b2a9",
   "metadata": {},
   "outputs": [],
   "source": [
    "fixR = fixR.astype(int)\n",
    "fixB = fixB.astype(int)\n",
    "red_team_keys=fixR\n",
    "blue_team_keys = fixB"
   ]
  },
  {
   "cell_type": "code",
   "execution_count": 6,
   "id": "e6fdd968-a457-421a-b437-c7e3da53647e",
   "metadata": {},
   "outputs": [],
   "source": [
    "tba_data = pd.DataFrame(np.array([match_number, comp_levels, red_team_keys[:,0], red_team_keys[:,1], red_team_keys[:,2], blue_team_keys[:,0], blue_team_keys[:,1], blue_team_keys[:,2], red_scores, blue_scores, red_rp, blue_rp, youtube_link],dtype='object').T, columns=['match', 'level', 'r1', 'r2', 'r3', 'b1', 'b2', 'b3', 'red score', 'blue score', 'red rp', 'blue rp', 'video'])\n",
    "#basically just creates a gigantic dataframe with all of the previously-created lists as columns\n",
    "tba_data['match'] = tba_data['match'].astype(int) #sets the match to an int type so it can be sorted\n",
    "tba_data = tba_data.sort_values('match').reset_index().drop('index', axis=1) #sorts mathches in order\n"
   ]
  },
  {
   "cell_type": "code",
   "execution_count": 7,
   "id": "7cba8870-80fa-44e5-8fb1-c1f7911c3c0a",
   "metadata": {},
   "outputs": [],
   "source": [
    "tba_data.to_csv(header + f'{event_key} tba data.csv') #save the file as a csv./\n"
   ]
  },
  {
   "cell_type": "code",
   "execution_count": null,
   "id": "a5f9e6af-de90-4b59-a9c3-28413b05603b",
   "metadata": {},
   "outputs": [],
   "source": []
  }
 ],
 "metadata": {
  "kernelspec": {
   "display_name": "Python 3",
   "language": "python",
   "name": "python3"
  },
  "language_info": {
   "codemirror_mode": {
    "name": "ipython",
    "version": 3
   },
   "file_extension": ".py",
   "mimetype": "text/x-python",
   "name": "python",
   "nbconvert_exporter": "python",
   "pygments_lexer": "ipython3",
   "version": "3.8.8"
  }
 },
 "nbformat": 4,
 "nbformat_minor": 5
}
